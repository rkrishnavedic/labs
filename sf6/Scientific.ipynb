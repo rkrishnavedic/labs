{
  "nbformat": 4,
  "nbformat_minor": 0,
  "metadata": {
    "colab": {
      "name": "ScientificComputing.ipynb",
      "provenance": [],
      "collapsed_sections": []
    },
    "kernelspec": {
      "display_name": "Python 3",
      "name": "python3"
    }
  },
  "cells": [
    {
      "cell_type": "code",
      "metadata": {
        "colab": {
          "base_uri": "https://localhost:8080/"
        },
        "id": "dgXdWURI821d",
        "outputId": "a6bbfd30-b9f0-411d-b3bf-1cbbb518db30"
      },
      "source": [
        "import math\n",
        "import numpy as np\n",
        "import matplotlib.pyplot as plt\n",
        "\n",
        "print('Problem 1:')\n",
        "\n",
        "\n",
        "def f(y,t, i):\n",
        "    if i==0:\n",
        "        return math.exp(t-y);\n",
        "    if i==1:\n",
        "        return (1+t)/(1+y);\n",
        "    if i==2:\n",
        "        return t*math.sqrt(y) - y;\n",
        "    return (math.sin(2*t)-2*t*y)/t**2;\n",
        "\n",
        "\n",
        "def odeEuler(i,y0, t):\n",
        "    y = np.zeros(len(t))\n",
        "    y[0] = y0\n",
        "    for n in range(0,len(t)-1):\n",
        "        y[n+1] = y[n] + f(y[n],t[n],i)*(t[n+1] - t[n])\n",
        "    return y;\n",
        "\n",
        "A = [0,1,2,1];\n",
        "B = [1,2,3,2];\n",
        "Y0 = [1,2,2,2];\n",
        "\n",
        "for i in range(4):\n",
        "    a,b=A[i],B[i];\n",
        "    print('part ('+str(chr(ord('a')+i))+') :');\n",
        "    good=0;\n",
        "    if i>=2:\n",
        "        good=2;\n",
        "    t = np.linspace(a,b,2+good+1);\n",
        "    sr = odeEuler(i,Y0[i],t);\n",
        "    for j in range(len(t)):\n",
        "        print(' approx  solution F('+str(t[j])+') = '+str(sr[j]));\n",
        "\n",
        "\n"
      ],
      "execution_count": 6,
      "outputs": [
        {
          "output_type": "stream",
          "text": [
            "Problem 1:\n",
            "part (a) :\n",
            " approx  solution F(0.0) = 1.0\n",
            " approx  solution F(0.5) = 1.1839397205857212\n",
            " approx  solution F(1.0) = 1.436252215343503\n",
            "part (b) :\n",
            " approx  solution F(1.0) = 2.0\n",
            " approx  solution F(1.5) = 2.3333333333333335\n",
            " approx  solution F(2.0) = 2.7083333333333335\n",
            "part (c) :\n",
            " approx  solution F(2.0) = 2.0\n",
            " approx  solution F(2.25) = 2.2071067811865475\n",
            " approx  solution F(2.5) = 2.4909989078432044\n",
            " approx  solution F(2.75) = 2.854680348463929\n",
            " approx  solution F(3.0) = 3.3025964649736848\n",
            "part (d) :\n",
            " approx  solution F(1.0) = 2.0\n",
            " approx  solution F(1.25) = 1.2273243567064205\n",
            " approx  solution F(1.5) = 0.8321501570804853\n",
            " approx  solution F(1.75) = 0.570446772282531\n",
            " approx  solution F(2.0) = 0.37882661467612466\n"
          ],
          "name": "stdout"
        }
      ]
    },
    {
      "cell_type": "code",
      "metadata": {
        "colab": {
          "base_uri": "https://localhost:8080/"
        },
        "id": "BDHcCkqeNkW0",
        "outputId": "829c5f3b-a105-47b7-c582-5e1edd809e3f"
      },
      "source": [
        "import math\n",
        "import numpy as np\n",
        "import matplotlib.pyplot as plt\n",
        "\n",
        "print('Problem 2:')\n",
        "\n",
        "\n",
        "def f(y,t, i):\n",
        "    if i==0:\n",
        "        return math.exp(t-y);\n",
        "    if i==1:\n",
        "        return (1+t)/(1+y);\n",
        "    if i==2:\n",
        "        return t*math.sqrt(y) - y;\n",
        "    return (math.sin(2*t)-2*t*y)/t**2;\n",
        "\n",
        "def g(t,i):\n",
        "    if i==0:\n",
        "        return math.log(math.exp(t)+math.exp(1)-1);\n",
        "    if i==1:\n",
        "        return math.sqrt((t+1)**2+5) - 1;\n",
        "    if i==2:\n",
        "        return (t-2+math.sqrt(2)*math.exp(1-t*0.5))**2;\n",
        "    return (math.cos(2)-math.cos(2*t)+4)/(2*t**2);\n",
        "\n",
        "\n",
        "def odeEuler(i,y0, t):\n",
        "    y = np.zeros(len(t))\n",
        "    y[0] = y0\n",
        "    for n in range(0,len(t)-1):\n",
        "        y[n+1] = y[n] + f(y[n],t[n],i)*(t[n+1] - t[n])\n",
        "    return y;\n",
        "\n",
        "A = [0,1,2,1];\n",
        "B = [1,2,3,2];\n",
        "Y0 = [1,2,2,2];\n",
        "\n",
        "for i in range(4):\n",
        "    a,b=A[i],B[i];\n",
        "    print('part ('+str(chr(ord('a')+i))+') :');\n",
        "    good=0;\n",
        "    if i>=2:\n",
        "        good=2;\n",
        "    t = np.linspace(a,b,2+good+1);\n",
        "    sr = odeEuler(i,Y0[i],t);\n",
        "    for j in range(len(t)):\n",
        "        print(' approx  solution F('+str(t[j])+') = '+str(sr[j]) +', '+'actual = '+str(g(t[j],i))+' and abs-error='+str(abs(g(t[j],i)-sr[j])));\n",
        "\n",
        "\n"
      ],
      "execution_count": 11,
      "outputs": [
        {
          "output_type": "stream",
          "text": [
            "Problem 2:\n",
            "part (a) :\n",
            " approx  solution F(0.0) = 1.0, actual = 1.0 and abs-error=0.0\n",
            " approx  solution F(0.5) = 1.1839397205857212, actual = 1.2140230606297089 and abs-error=0.030083340043987716\n",
            " approx  solution F(1.0) = 1.436252215343503, actual = 1.4898801256447498 and abs-error=0.05362791030124692\n",
            "part (b) :\n",
            " approx  solution F(1.0) = 2.0, actual = 2.0 and abs-error=0.0\n",
            " approx  solution F(1.5) = 2.3333333333333335, actual = 2.3541019662496847 and abs-error=0.020768632916351226\n",
            " approx  solution F(2.0) = 2.7083333333333335, actual = 2.7416573867739413 and abs-error=0.03332405344060785\n",
            "part (c) :\n",
            " approx  solution F(2.0) = 2.0, actual = 2.0000000000000004 and abs-error=4.440892098500626e-16\n",
            " approx  solution F(2.25) = 2.2071067811865475, actual = 2.244121110336502 and abs-error=0.037014329149954506\n",
            " approx  solution F(2.5) = 2.4909989078432044, actual = 2.5644519492316347 and abs-error=0.07345304138843023\n",
            " approx  solution F(2.75) = 2.854680348463929, actual = 2.965193834491754 and abs-error=0.11051348602782518\n",
            " approx  solution F(3.0) = 3.3025964649736848, actual = 3.451286652264298 and abs-error=0.14869018729061345\n",
            "part (d) :\n",
            " approx  solution F(1.0) = 2.0, actual = 2.0 and abs-error=0.0\n",
            " approx  solution F(1.25) = 1.2273243567064205, actual = 1.4031989692799332 and abs-error=0.17587461257351267\n",
            " approx  solution F(1.5) = 0.8321501570804853, actual = 1.0164101466785118 and abs-error=0.18425998959802647\n",
            " approx  solution F(1.75) = 0.570446772282531, actual = 0.7380097715499844 and abs-error=0.16756299926745333\n",
            " approx  solution F(2.0) = 0.37882661467612466, actual = 0.5296870980395587 and abs-error=0.15086048336343405\n"
          ],
          "name": "stdout"
        }
      ]
    },
    {
      "cell_type": "code",
      "metadata": {
        "colab": {
          "base_uri": "https://localhost:8080/",
          "height": 364
        },
        "id": "UgH8G3enUBJG",
        "outputId": "83c98a8f-3783-449b-e7eb-ff8e648a9df0"
      },
      "source": [
        "import math\n",
        "import numpy as np\n",
        "import matplotlib.pyplot as plt\n",
        "\n",
        "print('Problem 3:')\n",
        "\n",
        "\n",
        "def f(y,t):\n",
        "    return (1-t*y-(y*t)**2)/(t**2);\n",
        "\n",
        "def g(t):\n",
        "    return -1/t;\n",
        "\n",
        "def odeEuler(y0, t):\n",
        "    y = np.zeros(len(t))\n",
        "    y[0] = y0\n",
        "    for n in range(0,len(t)-1):\n",
        "        y[n+1] = y[n] + f(y[n],t[n])*(t[n+1] - t[n])\n",
        "    return y;\n",
        "y0=-1;\n",
        "t = np.linspace(1,2,21);\n",
        "ay = odeEuler(y0,t);\n",
        "g1 = np.vectorize(g);\n",
        "y = g1(t);\n",
        "\n",
        "plt.plot(t,ay,label='approximation');\n",
        "plt.plot(t,y,label='actual');\n",
        "plt.xlabel('t');\n",
        "plt.legend();\n",
        "plt.show();\n",
        "\n",
        "print('part (b)');\n",
        "\n",
        "yy = [1.052, 1.555, 1.978];\n",
        "for i in range(3):\n",
        "    print('interpolate y('+str(yy[i])+') = '+str(np.interp(yy[i],t,ay))+' and actual = '+str(g(yy[i]))+' :: abs-error = '+str(g(yy[i])-np.interp(yy[i],t,ay)));"
      ],
      "execution_count": 15,
      "outputs": [
        {
          "output_type": "stream",
          "text": [
            "Problem 3:\n"
          ],
          "name": "stdout"
        },
        {
          "output_type": "display_data",
          "data": {
            "image/png": "[encoded data removed]",
            "text/plain": [
              "<Figure size 432x288 with 1 Axes>"
            ]
          },
          "metadata": {
            "tags": [],
            "needs_background": "light"
          }
        },
        {
          "output_type": "stream",
          "text": [
            "part (b)\n",
            "interpolate y(1.052) = -0.9481814172335601 and actual = -0.9505703422053231 :: abs-error = -0.002388924971763018\n",
            "interpolate y(1.555) = -0.6242100522864794 and actual = -0.6430868167202572 :: abs-error = -0.018876764433777837\n",
            "interpolate y(1.978) = -0.47730178235981846 and actual = -0.5055611729019212 :: abs-error = -0.02825939054210269\n"
          ],
          "name": "stdout"
        }
      ]
    },
    {
      "cell_type": "code",
      "metadata": {
        "colab": {
          "base_uri": "https://localhost:8080/"
        },
        "id": "qaiIL5oVVozA",
        "outputId": "0c538655-1e5e-46d8-ed3d-9a963d977fb4"
      },
      "source": [
        "import math\n",
        "import numpy as np\n",
        "import matplotlib.pyplot as plt\n",
        "\n",
        "print('Problem 5:')\n",
        "\n",
        "def f(y,t):\n",
        "    return math.cos(t) - 20*(y-math.sin(t));\n",
        "\n",
        "def g(t):\n",
        "    return math.sin(t);\n",
        "\n",
        "def odeEuler(y0, t):\n",
        "    y = np.zeros(len(t))\n",
        "    y[0] = y0\n",
        "    for n in range(0,len(t)-1):\n",
        "        y[n+1] = y[n] + f(y[n],t[n])*(t[n+1] - t[n])\n",
        "    return y;\n",
        "\n",
        "a,b=0,3;\n",
        "t = np.linspace(a,b,6+1);\n",
        "sr = odeEuler(0,t);\n",
        "for j in range(len(t)):\n",
        "    print(' approx  solution F('+str(t[j])+') = '+str(sr[j]) + ', abs-error = '+str(abs(g(t[j])-sr[j])));"
      ],
      "execution_count": 19,
      "outputs": [
        {
          "output_type": "stream",
          "text": [
            "Problem 5:\n",
            " approx  solution F(0.0) = 0.0, abs-error = 0.0\n",
            " approx  solution F(0.5) = 0.5, abs-error = 0.020574461395796995\n",
            " approx  solution F(1.0) = 0.7330466669872164, abs-error = 0.10842431782068007\n",
            " approx  solution F(1.5) = 2.087440998128087, abs-error = 1.0899460115240323\n",
            " approx  solution F(2.0) = -8.776650516278384, abs-error = 9.685947943104065\n",
            " approx  solution F(2.5) = 87.8747554964887, abs-error = 87.27628335238475\n",
            " approx  solution F(3.0) = -785.2886498351323, abs-error = 785.4297698431922\n"
          ],
          "name": "stdout"
        }
      ]
    }
  ]
}
