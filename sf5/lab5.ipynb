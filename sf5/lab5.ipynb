{
  "nbformat": 4,
  "nbformat_minor": 0,
  "metadata": {
    "colab": {
      "name": "ScientificComputing.ipynb",
      "provenance": [],
      "collapsed_sections": []
    },
    "kernelspec": {
      "display_name": "Python 3",
      "name": "python3"
    }
  },
  "cells": [
    {
      "cell_type": "code",
      "metadata": {
        "colab": {
          "base_uri": "https://localhost:8080/"
        },
        "id": "dgXdWURI821d",
        "outputId": "b85ce02a-a8d0-42a2-e4d3-b4c909837682"
      },
      "source": [
        "import math\n",
        "import numpy as np\n",
        "import matplotlib.pyplot as plt\n",
        "\n",
        "print('Problem 1:')\n",
        "\n",
        "option = 1;\n",
        "\n",
        "def f(t):\n",
        "    global option;\n",
        "    if option==1:\n",
        "        return (t**2)*math.log(t);\n",
        "    if option==2:\n",
        "        return (2/(t**2-4));\n",
        "    if option==3:\n",
        "        return (t**2)*math.sin(t);\n",
        "\n",
        "\n",
        "\n",
        "def gC(a,b):\n",
        "    return 0.5*(b-a)*(f(0.5*(a+b)-0.5*(b-a)/math.sqrt(3))+f(0.5*(a+b)+0.5*(b-a)/math.sqrt(3)));\n",
        "\n",
        "I = [0.5*1.5*1.5*math.log(1.5) - 0.25*1.5 + 1/9, 0.5*math.log(1.65/2.35), 0.088755284435257]\n",
        "\n",
        "a = [1, 0, 0];\n",
        "b = [1.5,0.35, math.pi/4];\n",
        "\n",
        "for i in range(3):\n",
        "    option = i+1;\n",
        "    print(\"part (\"+str(chr(ord('a')+i))+\"): accurate value = \"+str(I[i])+\" and Gaussian Quadrature approximate = \"+str(gC(a[i],b[i])))\n"
      ],
      "execution_count": null,
      "outputs": [
        {
          "output_type": "stream",
          "text": [
            "Problem 1:\n",
            "part (a): accurate value = 0.19225935773279607 and Gaussian Quadrature approximate = 0.19226870637091759\n",
            "part (b): accurate value = -0.17682002012178924 and Gaussian Quadrature approximate = -0.17681898945491187\n",
            "part (c): accurate value = 0.088755284435257 and Gaussian Quadrature approximate = 0.08926301565713288\n"
          ],
          "name": "stdout"
        }
      ]
    },
    {
      "cell_type": "code",
      "metadata": {
        "colab": {
          "base_uri": "https://localhost:8080/"
        },
        "id": "BDHcCkqeNkW0",
        "outputId": "65e83273-9a60-405a-c4bd-4e806dd0ac79"
      },
      "source": [
        "import math\n",
        "import numpy as np\n",
        "import matplotlib.pyplot as plt\n",
        "\n",
        "print('Problem 3:')\n",
        "\n",
        "def trapezoid(a,b,W):\n",
        "    x = np.linspace(a,b,W+1);\n",
        "    R=0;\n",
        "    for i in range(W+1):\n",
        "        R+=f(x[i]);\n",
        "    R-=(f(a)+f(b))/2;\n",
        "    R*=(b-a)/W;\n",
        "\n",
        "    return R;\n",
        "\n",
        "def simpson(a,b,W):\n",
        "    x = np.linspace(a,b,W+1)\n",
        "    R=0;\n",
        "    for i in range(W+1):\n",
        "        if(i%2==1):\n",
        "            R+=4*f(x[i])\n",
        "        else:\n",
        "            R+=2*f(x[i])\n",
        "    R-=(f(a)+f(b));\n",
        "    R*=(b-a)/W;\n",
        "    R/=3;\n",
        "    return R;\n",
        "\n",
        "def gC(a,b):\n",
        "    return 0.5*(b-a)*(f(0.5*(a+b)-0.5*(b-a)/math.sqrt(3))+f(0.5*(a+b)+0.5*(b-a)/math.sqrt(3)));\n",
        "\n",
        "def f(t):\n",
        "    return 1/(t+2)\n",
        "\n",
        "ans = math.log(3);\n",
        "\n",
        "print('Accurate value = '+str(ans));\n",
        "print('trapezoidal approximate = '+str(trapezoid(-1,1,1)));\n",
        "print('simpson approximate = '+str(simpson(-1,1,1)));\n",
        "print('Gaussian Quadrature approx = '+str(gC(-1,1)));"
      ],
      "execution_count": null,
      "outputs": [
        {
          "output_type": "stream",
          "text": [
            "Problem 3:\n",
            "Accurate value = 1.0986122886681098\n",
            "trapezoidal approximate = 1.3333333333333333\n",
            "simpson approximate = 1.3333333333333333\n",
            "Gaussian Quadrature approx = 1.0909090909090908\n"
          ],
          "name": "stdout"
        }
      ]
    },
    {
      "cell_type": "code",
      "metadata": {
        "colab": {
          "base_uri": "https://localhost:8080/",
          "height": 351
        },
        "id": "UgH8G3enUBJG",
        "outputId": "f7a99cb5-9ec8-4b79-8f68-1575aadbe203"
      },
      "source": [
        "import math\n",
        "import numpy as np\n",
        "import matplotlib.pyplot as plt\n",
        "\n",
        "print('Problem 3:')\n",
        "\n",
        "def trapezoid(a,b,o,W):\n",
        "    x = np.linspace(a,b,W+1);\n",
        "    R=0;\n",
        "    for i in range(W):\n",
        "        R+=f(x[i],o);\n",
        "    R-=(f(a,o)+f(b,o))/2;\n",
        "    R*=(b-a)/W;\n",
        "\n",
        "    return R;\n",
        "\n",
        "def simpson(a,b,o,W):\n",
        "    x = np.linspace(a,b,W+1)\n",
        "    R=0;\n",
        "    for i in range(W+1):\n",
        "        if(i%2==1):\n",
        "            R+=4*f(x[i],o)\n",
        "        else:\n",
        "            R+=2*f(x[i],o)\n",
        "    R-=(f(a,o)+f(b,o));\n",
        "    R*=(b-a)/W;\n",
        "    R/=3;\n",
        "    return R;\n",
        "\n",
        "def f(t,i):\n",
        "    return 1/(t+2);\n",
        "\n",
        "def g(t):\n",
        "    return math.log(3);\n",
        "\n",
        "X = np.linspace(-1,1,101);\n",
        "print(\"accurate value = \"+str(math.log(3)));\n",
        "print('Trapezoid approximate = '+str(trapezoid(-1,1, 0, 100)));\n",
        "print('Simpson approximate = '+str(simpson(-1,1, 0, 100)));\n",
        "\n",
        "y1 = [0]*101;\n",
        "y2 = [0]*101;\n",
        "g1 = np.vectorize(g);\n",
        "for i in range(1,101):\n",
        "    y1[i] = trapezoid(-1,1,0,i);\n",
        "    y2[i] = simpson(-1,1,0,i);\n",
        "\n",
        "plt.plot(X, g1(X), label = 'accurate value');\n",
        "plt.plot(X, y1, label = 'trapezoid');\n",
        "plt.plot(X, y2, label = 'simpson');\n",
        "plt.ylabel('Integral(x)')\n",
        "plt.xlabel('N')\n",
        "plt.legend();\n",
        "plt.show();"
      ],
      "execution_count": null,
      "outputs": [
        {
          "output_type": "stream",
          "text": [
            "Problem 3:\n",
            "accurate value = 1.0986122886681098\n",
            "Trapezoid approximate = 1.0919752503144537\n",
            "Simpson approximate = 1.0986122939305363\n"
          ],
          "name": "stdout"
        },
        {
          "output_type": "display_data",
          "data": {
            "image/png": "[encoded data removed]",
            "text/plain": [
              "<Figure size 432x288 with 1 Axes>"
            ]
          },
          "metadata": {
            "tags": [],
            "needs_background": "light"
          }
        }
      ]
    },
    {
      "cell_type": "code",
      "metadata": {
        "colab": {
          "base_uri": "https://localhost:8080/"
        },
        "id": "qaiIL5oVVozA",
        "outputId": "6a75276f-6437-4980-f5d9-692d3ee747d5"
      },
      "source": [
        "import math\n",
        "import numpy as np\n",
        "import matplotlib.pyplot as plt\n",
        "\n",
        "print('Problem 4:')\n",
        "\n",
        "def simpson(a,b,W):\n",
        "    x = np.linspace(a,b,W+1)\n",
        "    R=0;\n",
        "    for i in range(W+1):\n",
        "        if(i%2==1):\n",
        "            R+=4*f(x[i])\n",
        "        else:\n",
        "            R+=2*f(x[i])\n",
        "    R-=(f(a)+f(b));\n",
        "    R*=(b-a)/W;\n",
        "    R/=3;\n",
        "    return R;\n",
        "\n",
        "def gC(a,b):\n",
        "    return  0.5*(b-a)*((5/9)*f(0.5*(a+b)-0.5*(b-a)*math.sqrt(0.6)) +(8/9)*f(0.5*(a+b))+ (5/9)*f(0.5*(a+b)+0.5*(b-a)*math.sqrt(0.6)))\n",
        "\n",
        "def f(t):\n",
        "    return 1/(t+1);\n",
        "\n",
        "print('Accurate value = '+str(math.log(2)));\n",
        "print('simpson approximate = '+str(simpson(0,1,8)));\n",
        "print('Gaussian Q. approximate = '+str(gC(0,1)));\n"
      ],
      "execution_count": null,
      "outputs": [
        {
          "output_type": "stream",
          "text": [
            "Problem 4:\n",
            "Accurate value = 0.6931471805599453\n",
            "simpson approximate = 0.6931545306545307\n",
            "Gaussian Q. approximate = 0.693121693121693\n"
          ],
          "name": "stdout"
        }
      ]
    },
    {
      "cell_type": "code",
      "metadata": {
        "colab": {
          "base_uri": "https://localhost:8080/"
        },
        "id": "qh4fSyRuPNUD",
        "outputId": "11c18e38-2799-48bb-a5e8-8293b4d421b2"
      },
      "source": [
        "import math\n",
        "import numpy as np\n",
        "import matplotlib.pyplot as plt\n",
        "\n",
        "print('Problem 5:')\n",
        "\n",
        "def f(t,i):\n",
        "    if i==1:\n",
        "        return math.sin(t)\n",
        "    if i==2:\n",
        "        return math.cos(t)\n",
        "    return 1/(1+t)\n",
        "\n",
        "def NCC(i):\n",
        "    return (1/6)*(f(0,i)+4*f(0.5,i)+f(1,i));\n",
        "\n",
        "def NCO(i):\n",
        "    return (1/3)*(2*f(0.25,i)-f(0.5,i)+2*f(0.75,i));\n",
        "\n",
        "C = [math.cos(0)-math.cos(1), math.sin(1), math.log(2)]\n",
        "\n",
        "print(\"1st case for f(x) = sin(x) , error = \"+str(abs(NCC(1)-C[0])));\n",
        "print(\"2nd case for f(x) = sin(x) , error = \"+str(abs(NCO(1)-C[0])));\n",
        "print(\"1st case for f(x) = cos(x) , error = \"+str(abs(NCC(2)-C[1])));\n",
        "print(\"2nd case for f(x) = cos(x) , error = \"+str(abs(NCO(2)-C[1])));\n",
        "print(\"1st case for f(x) = 1/(x+1) , error = \"+str(abs(NCC(3)-C[2])));\n",
        "print(\"2nd case for f(x) = 1/(x+1) , error = \"+str(abs(NCO(3)-C[2])));"
      ],
      "execution_count": 6,
      "outputs": [
        {
          "output_type": "stream",
          "text": [
            "Problem 5:\n",
            "1st case for f(x) = sin(x) , error = 0.0001644957389245194\n",
            "2nd case for f(x) = sin(x) , error = 0.00014439414802319694\n",
            "1st case for f(x) = cos(x) , error = 0.00030110743037536913\n",
            "2nd case for f(x) = cos(x) , error = 0.000264311715043708\n",
            "1st case for f(x) = 1/(x+1) , error = 0.0012972638844990225\n",
            "2nd case for f(x) = 1/(x+1) , error = 0.001083688496453239\n"
          ],
          "name": "stdout"
        }
      ]
    },
    {
      "cell_type": "code",
      "metadata": {
        "colab": {
          "base_uri": "https://localhost:8080/"
        },
        "id": "6WlizCZwZFG1",
        "outputId": "440d8701-efae-46a8-98e6-545edf694fd6"
      },
      "source": [
        "import math\n",
        "import numpy as np\n",
        "import matplotlib.pyplot as plt\n",
        "\n",
        "print('Problem 6:')\n",
        "\n",
        "def gC1(a,b):\n",
        "    return 0.5*(b-a)*(2*f(0.5*(a+b)));\n",
        "\n",
        "def gC2(a,b):\n",
        "    return 0.5*(b-a)*(f(0.5*(a+b)-0.5*(b-a)/math.sqrt(3))+f(0.5*(a+b)+0.5*(b-a)/math.sqrt(3)));\n",
        "def gC3(a,b):\n",
        "    return  0.5*(b-a)*((5/9)*f(0.5*(a+b)-0.5*(b-a)*math.sqrt(0.6)) +(8/9)*f(0.5*(a+b))+ (5/9)*f(0.5*(a+b)+0.5*(b-a)*math.sqrt(0.6)))\n",
        "def gC4(a,b):\n",
        "    return  0.5*(b-a)*((0.5-math.sqrt(30)/36)*f(0.5*(a+b)-0.5*(b-a)*math.sqrt((15+2*math.sqrt(30))/35)) +(0.5+math.sqrt(30)/36)*f(0.5*(a+b)-0.5*(b-a)*math.sqrt((15-2*math.sqrt(30))/35))+ (0.5+math.sqrt(30)/36)*f(0.5*(a+b)+0.5*(b-a)*math.sqrt((15-2*math.sqrt(30))/35)) + (0.5-math.sqrt(30)/36)*f(0.5*(a+b)+0.5*(b-a)*math.sqrt((15+2*math.sqrt(30))/35)))\n",
        "\n",
        "def g(t):\n",
        "    return f((1+t)*math.pi/4);\n",
        "def gC5(a,b):\n",
        "    return  0.5*(b-a)*((128/225)*g(0)+((322+13*math.sqrt(70))/900)*(g((1/3)*(math.sqrt(5-2*(math.sqrt(10/7)))))+g((-1/3)*(math.sqrt(5-2*(math.sqrt(10/7)))))) + ((322-13*math.sqrt(70))/900)*(g((1/3)*(math.sqrt(5+2*(math.sqrt(10/7)))))+g((-1/3)*(math.sqrt(5+2*(math.sqrt(10/7)))))));\n",
        "\n",
        "def f(t):\n",
        "    return (math.cos(t)*math.log(math.sin(t)))/(math.sin(t)**2+1);\n",
        "\n",
        "print('Accurate value = -C (Catalans Constant) = -0.915966')\n",
        "print('Gaussian Q. n=1 approximate = '+str(gC1(0,math.pi/2)));\n",
        "print('Gaussian Q. n=2 approximate = '+str(gC2(0,math.pi/2)));\n",
        "print('Gaussian Q. n=3 approximate = '+str(gC3(0,math.pi/2)));\n",
        "print('Gaussian Q. n=4 approximate = '+str(gC4(0,math.pi/2)));\n",
        "print('Gaussian Q. n=5 approximate = '+str(gC5(0,math.pi/2)));\n"
      ],
      "execution_count": null,
      "outputs": [
        {
          "output_type": "stream",
          "text": [
            "Problem 6:\n",
            "Accurate value = -C (Catalans Constant) = -0.915966\n",
            "Gaussian Q. n=1 approximate = -0.25663098184519656\n",
            "Gaussian Q. n=2 approximate = -0.7601832504223041\n",
            "Gaussian Q. n=3 approximate = -0.8381514607952754\n",
            "Gaussian Q. n=4 approximate = -0.8665745118193433\n",
            "Gaussian Q. n=5 approximate = -0.8830329610520602\n"
          ],
          "name": "stdout"
        }
      ]
    }
  ]
}